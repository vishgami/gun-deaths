{
 "cells": [
  {
   "cell_type": "code",
   "execution_count": 14,
   "metadata": {
    "collapsed": true
   },
   "outputs": [],
   "source": [
    "import csv\n",
    "f = open(\"guns.csv\",\"r\")\n",
    "csvreader = csv.reader(f)\n",
    "data = list(csvreader)\n"
   ]
  },
  {
   "cell_type": "code",
   "execution_count": 15,
   "metadata": {
    "collapsed": false,
    "scrolled": true
   },
   "outputs": [
    {
     "name": "stdout",
     "output_type": "stream",
     "text": [
      "[['', 'year', 'month', 'intent', 'police', 'sex', 'age', 'race', 'hispanic', 'place', 'education'], ['1', '2012', '01', 'Suicide', '0', 'M', '34', 'Asian/Pacific Islander', '100', 'Home', '4'], ['2', '2012', '01', 'Suicide', '0', 'F', '21', 'White', '100', 'Street', '3'], ['3', '2012', '01', 'Suicide', '0', 'M', '60', 'White', '100', 'Other specified', '4'], ['4', '2012', '02', 'Suicide', '0', 'M', '64', 'White', '100', 'Home', '4']]\n"
     ]
    }
   ],
   "source": [
    "print(data[0:5])"
   ]
  },
  {
   "cell_type": "code",
   "execution_count": 16,
   "metadata": {
    "collapsed": false
   },
   "outputs": [
    {
     "name": "stdout",
     "output_type": "stream",
     "text": [
      "['', 'year', 'month', 'intent', 'police', 'sex', 'age', 'race', 'hispanic', 'place', 'education']\n",
      "[['1', '2012', '01', 'Suicide', '0', 'M', '34', 'Asian/Pacific Islander', '100', 'Home', '4'], ['2', '2012', '01', 'Suicide', '0', 'F', '21', 'White', '100', 'Street', '3'], ['3', '2012', '01', 'Suicide', '0', 'M', '60', 'White', '100', 'Other specified', '4'], ['4', '2012', '02', 'Suicide', '0', 'M', '64', 'White', '100', 'Home', '4'], ['5', '2012', '02', 'Suicide', '0', 'M', '31', 'White', '100', 'Other specified', '2']]\n"
     ]
    }
   ],
   "source": [
    "headers = data[0]\n",
    "data = data[1:]\n",
    "print(headers)\n",
    "print(data[0:5])"
   ]
  },
  {
   "cell_type": "code",
   "execution_count": 17,
   "metadata": {
    "collapsed": true
   },
   "outputs": [],
   "source": [
    "years = [row[1] for row in data]"
   ]
  },
  {
   "cell_type": "code",
   "execution_count": 18,
   "metadata": {
    "collapsed": false
   },
   "outputs": [],
   "source": [
    "years_counts = {}\n",
    "for year in years:\n",
    "    if year not in years_counts:\n",
    "        years_counts[year] = 1\n",
    "    else:\n",
    "        years_counts[year]+=1\n"
   ]
  },
  {
   "cell_type": "code",
   "execution_count": 19,
   "metadata": {
    "collapsed": false
   },
   "outputs": [
    {
     "name": "stdout",
     "output_type": "stream",
     "text": [
      "{'2013': 33636, '2012': 33563, '2014': 33599}\n"
     ]
    }
   ],
   "source": [
    "print(years_counts)"
   ]
  },
  {
   "cell_type": "code",
   "execution_count": 20,
   "metadata": {
    "collapsed": false
   },
   "outputs": [],
   "source": [
    "import datetime\n",
    "#dates = is a list that contains datetime.datetime object for each row combinine col2,3\n",
    "dates = []\n",
    "for row in data:\n",
    "    yearInt = int(row[1])\n",
    "    monthInt = int(row[2])\n",
    "    dates.append(datetime.datetime(year = yearInt, month = monthInt, day =1))\n"
   ]
  },
  {
   "cell_type": "code",
   "execution_count": 21,
   "metadata": {
    "collapsed": false
   },
   "outputs": [
    {
     "name": "stdout",
     "output_type": "stream",
     "text": [
      "[datetime.datetime(2012, 1, 1, 0, 0), datetime.datetime(2012, 1, 1, 0, 0), datetime.datetime(2012, 1, 1, 0, 0), datetime.datetime(2012, 2, 1, 0, 0), datetime.datetime(2012, 2, 1, 0, 0)]\n"
     ]
    }
   ],
   "source": [
    "print(dates[0:5])"
   ]
  },
  {
   "cell_type": "code",
   "execution_count": 22,
   "metadata": {
    "collapsed": true
   },
   "outputs": [],
   "source": [
    "dateset = set(dates)"
   ]
  },
  {
   "cell_type": "code",
   "execution_count": 23,
   "metadata": {
    "collapsed": false
   },
   "outputs": [
    {
     "name": "stdout",
     "output_type": "stream",
     "text": [
      "{datetime.datetime(2014, 12, 1, 0, 0), datetime.datetime(2012, 10, 1, 0, 0), datetime.datetime(2013, 8, 1, 0, 0), datetime.datetime(2014, 8, 1, 0, 0), datetime.datetime(2014, 1, 1, 0, 0), datetime.datetime(2014, 7, 1, 0, 0), datetime.datetime(2014, 3, 1, 0, 0), datetime.datetime(2012, 3, 1, 0, 0), datetime.datetime(2012, 9, 1, 0, 0), datetime.datetime(2012, 12, 1, 0, 0), datetime.datetime(2012, 11, 1, 0, 0), datetime.datetime(2013, 11, 1, 0, 0), datetime.datetime(2014, 11, 1, 0, 0), datetime.datetime(2013, 4, 1, 0, 0), datetime.datetime(2012, 2, 1, 0, 0), datetime.datetime(2013, 10, 1, 0, 0), datetime.datetime(2014, 5, 1, 0, 0), datetime.datetime(2013, 2, 1, 0, 0), datetime.datetime(2014, 9, 1, 0, 0), datetime.datetime(2012, 6, 1, 0, 0), datetime.datetime(2012, 7, 1, 0, 0), datetime.datetime(2013, 12, 1, 0, 0), datetime.datetime(2014, 10, 1, 0, 0), datetime.datetime(2013, 7, 1, 0, 0), datetime.datetime(2013, 3, 1, 0, 0), datetime.datetime(2013, 9, 1, 0, 0), datetime.datetime(2012, 8, 1, 0, 0), datetime.datetime(2012, 4, 1, 0, 0), datetime.datetime(2014, 6, 1, 0, 0), datetime.datetime(2014, 4, 1, 0, 0), datetime.datetime(2013, 1, 1, 0, 0), datetime.datetime(2013, 6, 1, 0, 0), datetime.datetime(2012, 5, 1, 0, 0), datetime.datetime(2012, 1, 1, 0, 0), datetime.datetime(2014, 2, 1, 0, 0), datetime.datetime(2013, 5, 1, 0, 0)}\n"
     ]
    }
   ],
   "source": [
    "print(dateset)"
   ]
  },
  {
   "cell_type": "code",
   "execution_count": 24,
   "metadata": {
    "collapsed": false
   },
   "outputs": [],
   "source": [
    "data_counts = {}\n",
    "for elm in dates:\n",
    "    if elm not in data_counts:\n",
    "        data_counts[elm] = 1\n",
    "    else:\n",
    "        data_counts[elm] +=1\n",
    "\n"
   ]
  },
  {
   "cell_type": "code",
   "execution_count": 25,
   "metadata": {
    "collapsed": false
   },
   "outputs": [
    {
     "name": "stdout",
     "output_type": "stream",
     "text": [
      "{datetime.datetime(2013, 7, 1, 0, 0): 3079, datetime.datetime(2014, 12, 1, 0, 0): 2857, datetime.datetime(2013, 8, 1, 0, 0): 2859, datetime.datetime(2014, 10, 1, 0, 0): 2865, datetime.datetime(2013, 9, 1, 0, 0): 2742, datetime.datetime(2014, 1, 1, 0, 0): 2651, datetime.datetime(2014, 9, 1, 0, 0): 2914, datetime.datetime(2013, 12, 1, 0, 0): 2765, datetime.datetime(2014, 7, 1, 0, 0): 2884, datetime.datetime(2014, 3, 1, 0, 0): 2684, datetime.datetime(2013, 11, 1, 0, 0): 2758, datetime.datetime(2012, 9, 1, 0, 0): 2852, datetime.datetime(2012, 1, 1, 0, 0): 2758, datetime.datetime(2012, 7, 1, 0, 0): 3026, datetime.datetime(2014, 2, 1, 0, 0): 2361, datetime.datetime(2012, 12, 1, 0, 0): 2791, datetime.datetime(2012, 11, 1, 0, 0): 2729, datetime.datetime(2013, 3, 1, 0, 0): 2862, datetime.datetime(2012, 10, 1, 0, 0): 2733, datetime.datetime(2014, 5, 1, 0, 0): 2864, datetime.datetime(2012, 8, 1, 0, 0): 2954, datetime.datetime(2012, 4, 1, 0, 0): 2795, datetime.datetime(2014, 8, 1, 0, 0): 2970, datetime.datetime(2014, 6, 1, 0, 0): 2931, datetime.datetime(2014, 4, 1, 0, 0): 2862, datetime.datetime(2013, 4, 1, 0, 0): 2798, datetime.datetime(2012, 2, 1, 0, 0): 2357, datetime.datetime(2013, 6, 1, 0, 0): 2920, datetime.datetime(2012, 5, 1, 0, 0): 2999, datetime.datetime(2013, 10, 1, 0, 0): 2808, datetime.datetime(2012, 3, 1, 0, 0): 2743, datetime.datetime(2014, 11, 1, 0, 0): 2756, datetime.datetime(2013, 1, 1, 0, 0): 2864, datetime.datetime(2013, 2, 1, 0, 0): 2375, datetime.datetime(2012, 6, 1, 0, 0): 2826, datetime.datetime(2013, 5, 1, 0, 0): 2806}\n"
     ]
    }
   ],
   "source": [
    "print(data_counts)"
   ]
  },
  {
   "cell_type": "code",
   "execution_count": 26,
   "metadata": {
    "collapsed": false
   },
   "outputs": [
    {
     "name": "stdout",
     "output_type": "stream",
     "text": [
      "{'White': 66237, 'Black': 23296, 'Asian/Pacific Islander': 1326, 'Native American/Native Alaskan': 917, 'Hispanic': 9022}\n",
      "{'M': 86349, 'F': 14449}\n"
     ]
    }
   ],
   "source": [
    "sex_counts = {}\n",
    "race_counts = {}\n",
    "for row in data:\n",
    "    if row[5] not in sex_counts:\n",
    "        sex_counts[row[5]] = 1\n",
    "    else:\n",
    "        sex_counts[row[5]]+=1\n",
    "    if row[7] not in race_counts:\n",
    "        race_counts[row[7]] = 1\n",
    "    else:\n",
    "        race_counts[row[7]]+=1\n",
    "print(race_counts)\n",
    "print(sex_counts)\n"
   ]
  },
  {
   "cell_type": "markdown",
   "metadata": {},
   "source": [
    "\n",
    "# Gun Deaths\n",
    "Gun Deaths seem to be higher amongst the white population and higher amongst Males by a large margin. "
   ]
  },
  {
   "cell_type": "code",
   "execution_count": 28,
   "metadata": {
    "collapsed": false
   },
   "outputs": [
    {
     "name": "stdout",
     "output_type": "stream",
     "text": [
      "white 197318956\n",
      "hispanic 44618105\n",
      "black 40250635\n",
      "nativeamer 3739506\n",
      "asianpac 15159516\n",
      "asianpac 15834141\n",
      "{'White': 197318956, 'Black': 40250635, 'Asian/Pacific Islander': 15834141, 'Native American/Native Alaskan': 3739506, 'Hispanic': 44618105}\n"
     ]
    }
   ],
   "source": [
    "import csv\n",
    "import re\n",
    "with open(\"census.csv\",\"r\") as f:\n",
    "    reader = csv.reader(f)\n",
    "    census_data = list(reader)\n",
    "mapping = {}\n",
    "asianpac = 0\n",
    "black = 0\n",
    "hispanic = 0\n",
    "nativeamer = 0\n",
    "white=0\n",
    "counter = 0\n",
    "#print(census_data)\n",
    "for row in census_data:\n",
    "    for elm in row:\n",
    "        if re.search(\"Asian$\",str(elm)) is not None:\n",
    "            asianpac = asianpac + int(census_data[1][counter])\n",
    "            print(\"asianpac\",asianpac)\n",
    "        if re.search(\"Hawai\",str(elm)) is not None:\n",
    "            asianpac = asianpac + int(census_data[1][counter])\n",
    "            print(\"asianpac\",asianpac)\n",
    "        if re.search(\"Hispanic$\",str(elm)) is not None:\n",
    "            hispanic = int(census_data[1][counter])            \n",
    "            print(\"hispanic\",hispanic)\n",
    "        if re.search(\"Black\",str(elm)) is not None:\n",
    "            black = int(census_data[1][counter])\n",
    "            print(\"black\",black)\n",
    "        if re.search(\"White$\",str(elm)) is not None:\n",
    "            white = int(census_data[1][counter])\n",
    "            print(\"white\",white)\n",
    "        if re.search(\"Alask\",str(elm)) is not None:\n",
    "            nativeamer = int(census_data[1][counter])\n",
    "            print(\"nativeamer\",nativeamer)\n",
    "        counter = counter+1\n",
    "\n",
    "for k, v in race_counts.items():\n",
    "    if k ==\"Asian/Pacific Islander\":\n",
    "        mapping[k] = asianpac\n",
    "    if k ==\"Black\":\n",
    "        mapping[k] = black\n",
    "    if k == \"Hispanic\":\n",
    "        mapping[k] = hispanic\n",
    "    if k ==\"Native American/Native Alaskan\":\n",
    "        mapping[k] = nativeamer\n",
    "    if k ==\"White\":\n",
    "        mapping[k] = white\n",
    "print(mapping)\n",
    "\n",
    "        \n",
    "            \n",
    "            "
   ]
  },
  {
   "cell_type": "code",
   "execution_count": 29,
   "metadata": {
    "collapsed": false
   },
   "outputs": [
    {
     "data": {
      "text/plain": [
       "{'Asian/Pacific Islander': 1326,\n",
       " 'Black': 23296,\n",
       " 'Hispanic': 9022,\n",
       " 'Native American/Native Alaskan': 917,\n",
       " 'White': 66237}"
      ]
     },
     "execution_count": 29,
     "metadata": {},
     "output_type": "execute_result"
    }
   ],
   "source": [
    "race_counts"
   ]
  },
  {
   "cell_type": "code",
   "execution_count": 30,
   "metadata": {
    "collapsed": true
   },
   "outputs": [],
   "source": [
    "#divide the racecounts by the mapping and multiply by 100000, and send to race_per_hundredk dictionary"
   ]
  },
  {
   "cell_type": "code",
   "execution_count": 31,
   "metadata": {
    "collapsed": false
   },
   "outputs": [
    {
     "name": "stdout",
     "output_type": "stream",
     "text": [
      "{'White': 33.56849303419181, 'Black': 57.8773477735196, 'Asian/Pacific Islander': 8.374309664161762, 'Native American/Native Alaskan': 24.521955573811088, 'Hispanic': 20.220491210910907}\n"
     ]
    }
   ],
   "source": [
    "race_per_hundredk = {}\n",
    "for race,num in race_counts.items():\n",
    "    #print(race,mapping[race])\n",
    "    race_per_hundredk[race] = (num/mapping[race]) * 100000\n",
    "print(race_per_hundredk)\n",
    "    \n",
    "    "
   ]
  },
  {
   "cell_type": "code",
   "execution_count": 32,
   "metadata": {
    "collapsed": false
   },
   "outputs": [
    {
     "name": "stdout",
     "output_type": "stream",
     "text": [
      "['Suicide', 'Suicide', 'Suicide', 'Suicide', 'Suicide']\n"
     ]
    }
   ],
   "source": [
    "intents = [elm[3]  for elm in data ]\n",
    "print(intents[0:5])"
   ]
  },
  {
   "cell_type": "code",
   "execution_count": 33,
   "metadata": {
    "collapsed": false
   },
   "outputs": [
    {
     "name": "stdout",
     "output_type": "stream",
     "text": [
      "['Asian/Pacific Islander', 'White', 'White', 'White', 'White']\n"
     ]
    }
   ],
   "source": [
    "races = [elm[7] for elm in data]\n",
    "print(races[0:5])\n"
   ]
  },
  {
   "cell_type": "code",
   "execution_count": 34,
   "metadata": {
    "collapsed": false
   },
   "outputs": [
    {
     "name": "stdout",
     "output_type": "stream",
     "text": [
      "{'White': 9147, 'Black': 19510, 'Asian/Pacific Islander': 559, 'Native American/Native Alaskan': 326, 'Hispanic': 5634}\n",
      "{'White': 197318956, 'Black': 40250635, 'Asian/Pacific Islander': 15834141, 'Native American/Native Alaskan': 3739506, 'Hispanic': 44618105}\n"
     ]
    }
   ],
   "source": [
    "homicide_race_counts = {}\n",
    "for i,race in enumerate(races):\n",
    "    if intents[i] == \"Homicide\":\n",
    "        if race not in homicide_race_counts:\n",
    "            homicide_race_counts[race] = 1\n",
    "        else:\n",
    "            homicide_race_counts[race] +=1\n",
    "print(homicide_race_counts)\n",
    "print(mapping)\n",
    "\n",
    "      \n",
    "\n",
    "    "
   ]
  },
  {
   "cell_type": "code",
   "execution_count": 35,
   "metadata": {
    "collapsed": false
   },
   "outputs": [
    {
     "name": "stdout",
     "output_type": "stream",
     "text": [
      "{'White': 4.6356417981453335, 'Black': 48.471284987180944, 'Asian/Pacific Islander': 3.530346230970155, 'Native American/Native Alaskan': 8.717729026240365, 'Hispanic': 12.627161104219914}\n"
     ]
    }
   ],
   "source": [
    "race_per_hundredk = {}\n",
    "for race,num in homicide_race_counts.items():\n",
    "    #print(race,mapping[race])\n",
    "    race_per_hundredk[race] = (num/mapping[race]) * 100000\n",
    "print(race_per_hundredk)\n",
    "    \n",
    "    "
   ]
  },
  {
   "cell_type": "markdown",
   "metadata": {
    "collapsed": true
   },
   "source": [
    "#the results show that for homicides black have the highest rate of gun crime, followed by hispanic and native american/alaskan and whites and then asian pacific islanders\n"
   ]
  }
 ],
 "metadata": {
  "kernelspec": {
   "display_name": "Python 3",
   "language": "python",
   "name": "python3"
  },
  "language_info": {
   "codemirror_mode": {
    "name": "ipython",
    "version": 3
   },
   "file_extension": ".py",
   "mimetype": "text/x-python",
   "name": "python",
   "nbconvert_exporter": "python",
   "pygments_lexer": "ipython3",
   "version": "3.4.3"
  }
 },
 "nbformat": 4,
 "nbformat_minor": 0
}
